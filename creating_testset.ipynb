{
 "cells": [
  {
   "cell_type": "code",
   "execution_count": 3,
   "id": "c6608416",
   "metadata": {},
   "outputs": [],
   "source": [
    "import pandas as pd\n",
    "import numpy as np\n",
    "import matplotlib.pyplot as plt\n",
    "from sklearn.model_selection import StratifiedShuffleSplit"
   ]
  },
  {
   "cell_type": "code",
   "execution_count": 4,
   "id": "7e8bd1da",
   "metadata": {},
   "outputs": [],
   "source": [
    "data = pd.read_csv(\"/media/prince/5A4E832F4E83034D/Movie recomender/movies_preprocessed.csv\")"
   ]
  },
  {
   "cell_type": "code",
   "execution_count": 5,
   "id": "039c6161",
   "metadata": {},
   "outputs": [
    {
     "name": "stdout",
     "output_type": "stream",
     "text": [
      "<class 'pandas.core.frame.DataFrame'>\n",
      "RangeIndex: 9999 entries, 0 to 9998\n",
      "Data columns (total 10 columns):\n",
      " #   Column             Non-Null Count  Dtype  \n",
      "---  ------             --------------  -----  \n",
      " 0   id                 9999 non-null   int64  \n",
      " 1   title              9999 non-null   object \n",
      " 2   genre              9999 non-null   object \n",
      " 3   original_language  9999 non-null   object \n",
      " 4   overview           9999 non-null   object \n",
      " 5   popularity         9999 non-null   float64\n",
      " 6   release_date       9999 non-null   object \n",
      " 7   vote_average       9999 non-null   float64\n",
      " 8   vote_count         9999 non-null   int64  \n",
      " 9   popularity_bin     9999 non-null   int64  \n",
      "dtypes: float64(2), int64(3), object(5)\n",
      "memory usage: 781.3+ KB\n"
     ]
    }
   ],
   "source": [
    "data.info()"
   ]
  },
  {
   "cell_type": "code",
   "execution_count": 6,
   "id": "dd42c877",
   "metadata": {},
   "outputs": [],
   "source": [
    "# np.random.seed(42)\n",
    "# shuffled_indices = np.random.permutation(len(data))\n",
    "# test_size = int(len(data) * 0.2)\n",
    "# train_indices = shuffled_indices[:test_size]\n",
    "# test_indices = shuffled_indices[test_size:]\n",
    "# test = data.iloc[train_indices]\n",
    "# train = data.iloc[test_indices]"
   ]
  },
  {
   "cell_type": "code",
   "execution_count": 7,
   "id": "c8e393e3",
   "metadata": {},
   "outputs": [],
   "source": [
    "# test.dropna(inplace=True)\n",
    "# test['release_date'] = pd.to_datetime(test['release_date'], errors='coerce')\n",
    "# test.info()"
   ]
  },
  {
   "cell_type": "code",
   "execution_count": 8,
   "id": "f78e6386",
   "metadata": {},
   "outputs": [],
   "source": [
    "# train.dropna(inplace=True)\n",
    "# train['release_date'] = pd.to_datetime(train['release_date'], errors='coerce')\n",
    "# train.info()"
   ]
  },
  {
   "cell_type": "code",
   "execution_count": 11,
   "id": "62843e86",
   "metadata": {},
   "outputs": [
    {
     "data": {
      "image/png": "[encoded data removed]",
      "text/plain": [
       "<Figure size 1200x600 with 1 Axes>"
      ]
     },
     "metadata": {},
     "output_type": "display_data"
    }
   ],
   "source": [
    "# Simple bar plot\n",
    "data['vote_average'].value_counts().sort_index().plot(kind='bar', figsize=(12,6))\n",
    "\n",
    "plt.title('Vote Count Distribution')\n",
    "plt.xlabel('Vote Count')\n",
    "plt.ylabel('Number of Movies')\n",
    "plt.show()"
   ]
  },
  {
   "cell_type": "code",
   "execution_count": 13,
   "id": "e36e5a3b",
   "metadata": {},
   "outputs": [],
   "source": [
    "split = StratifiedShuffleSplit(n_splits=1, random_state=42, test_size=0.2)\n",
    "\n",
    "for train_indices, test_indices in split.split(data, data['vote_average']):\n",
    "    train = data.loc[train_indices]\n",
    "    test = data.loc[test_indices]"
   ]
  },
  {
   "cell_type": "code",
   "execution_count": 20,
   "id": "01d3db8d",
   "metadata": {},
   "outputs": [
    {
     "name": "stdout",
     "output_type": "stream",
     "text": [
      "<class 'pandas.core.frame.DataFrame'>\n",
      "Index: 7999 entries, 5692 to 9864\n",
      "Data columns (total 10 columns):\n",
      " #   Column             Non-Null Count  Dtype  \n",
      "---  ------             --------------  -----  \n",
      " 0   id                 7999 non-null   int64  \n",
      " 1   title              7999 non-null   object \n",
      " 2   genre              7999 non-null   object \n",
      " 3   original_language  7999 non-null   object \n",
      " 4   overview           7999 non-null   object \n",
      " 5   popularity         7999 non-null   float64\n",
      " 6   release_date       7999 non-null   object \n",
      " 7   vote_average       7999 non-null   float64\n",
      " 8   vote_count         7999 non-null   int64  \n",
      " 9   popularity_bin     7999 non-null   int64  \n",
      "dtypes: float64(2), int64(3), object(5)\n",
      "memory usage: 687.4+ KB\n"
     ]
    }
   ],
   "source": [
    "train.info()\n",
    "train.to_csv('train.csv')"
   ]
  },
  {
   "cell_type": "code",
   "execution_count": 21,
   "id": "a97542e3",
   "metadata": {},
   "outputs": [
    {
     "name": "stdout",
     "output_type": "stream",
     "text": [
      "<class 'pandas.core.frame.DataFrame'>\n",
      "Index: 2000 entries, 1443 to 4272\n",
      "Data columns (total 10 columns):\n",
      " #   Column             Non-Null Count  Dtype  \n",
      "---  ------             --------------  -----  \n",
      " 0   id                 2000 non-null   int64  \n",
      " 1   title              2000 non-null   object \n",
      " 2   genre              2000 non-null   object \n",
      " 3   original_language  2000 non-null   object \n",
      " 4   overview           2000 non-null   object \n",
      " 5   popularity         2000 non-null   float64\n",
      " 6   release_date       2000 non-null   object \n",
      " 7   vote_average       2000 non-null   float64\n",
      " 8   vote_count         2000 non-null   int64  \n",
      " 9   popularity_bin     2000 non-null   int64  \n",
      "dtypes: float64(2), int64(3), object(5)\n",
      "memory usage: 171.9+ KB\n"
     ]
    }
   ],
   "source": [
    "test.to_csv('test.csv')\n",
    "test.info()"
   ]
  },
  {
   "cell_type": "code",
   "execution_count": null,
   "id": "1c6a1647",
   "metadata": {},
   "outputs": [],
   "source": []
  }
 ],
 "metadata": {
  "kernelspec": {
   "display_name": "base",
   "language": "python",
   "name": "python3"
  },
  "language_info": {
   "codemirror_mode": {
    "name": "ipython",
    "version": 3
   },
   "file_extension": ".py",
   "mimetype": "text/x-python",
   "name": "python",
   "nbconvert_exporter": "python",
   "pygments_lexer": "ipython3",
   "version": "3.13.5"
  }
 },
 "nbformat": 4,
 "nbformat_minor": 5
}
